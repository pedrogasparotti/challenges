{
 "cells": [
  {
   "cell_type": "code",
   "execution_count": 1,
   "id": "968a1ce1",
   "metadata": {},
   "outputs": [],
   "source": [
    "import pandas as pd\n",
    "import tensorflow as tf\n",
    "from sklearn.preprocessing import LabelEncoder, StandardScaler\n",
    "from sklearn.model_selection import train_test_split\n",
    "import matplotlib.pyplot as plt"
   ]
  },
  {
   "cell_type": "code",
   "execution_count": 2,
   "id": "a2b264a6",
   "metadata": {},
   "outputs": [],
   "source": [
    "from data_preprocessing import load_data, handle_outliers, preprocess_data\n",
    "from model_building import build_model"
   ]
  },
  {
   "cell_type": "code",
   "execution_count": 3,
   "id": "4a5da884",
   "metadata": {},
   "outputs": [],
   "source": [
    "# Load data\n",
    "file_path = 'https://github.com/pedrogasparotti/challenges/raw/main/cars_train.csv'\n",
    "df = load_data(file_path)"
   ]
  },
  {
   "cell_type": "code",
   "execution_count": 4,
   "id": "5dacad61",
   "metadata": {
    "scrolled": true
   },
   "outputs": [
    {
     "name": "stdout",
     "output_type": "stream",
     "text": [
      "                 id     num_fotos  ano_de_fabricacao    ano_modelo  \\\n",
      "count  2.958400e+04  29407.000000       29584.000000  29584.000000   \n",
      "mean   1.705650e+38     10.323834        2016.758552   2017.808985   \n",
      "std    9.814219e+37      3.487334           4.062422      2.673930   \n",
      "min    1.332600e+34      8.000000        1985.000000   1997.000000   \n",
      "25%    8.617510e+37      8.000000        2015.000000   2016.000000   \n",
      "50%    1.706530e+38      8.000000        2018.000000   2018.000000   \n",
      "75%    2.554710e+38     14.000000        2019.000000   2020.000000   \n",
      "max    3.402560e+38     21.000000        2022.000000   2023.000000   \n",
      "\n",
      "           hodometro    num_portas  veiculo_alienado         preco  \n",
      "count   29584.000000  29584.000000               0.0  2.958400e+04  \n",
      "mean    58430.592077      3.940677               NaN  1.330239e+05  \n",
      "std     32561.769309      0.338360               NaN  8.166287e+04  \n",
      "min       100.000000      2.000000               NaN  9.869951e+03  \n",
      "25%     31214.000000      4.000000               NaN  7.657177e+04  \n",
      "50%     57434.000000      4.000000               NaN  1.143558e+05  \n",
      "75%     81953.500000      4.000000               NaN  1.636796e+05  \n",
      "max    390065.000000      4.000000               NaN  1.359813e+06  \n"
     ]
    }
   ],
   "source": [
    "print(df.describe())"
   ]
  },
  {
   "cell_type": "code",
   "execution_count": 5,
   "id": "51b07d77",
   "metadata": {},
   "outputs": [
    {
     "data": {
      "text/html": [
       "<div>\n",
       "<style scoped>\n",
       "    .dataframe tbody tr th:only-of-type {\n",
       "        vertical-align: middle;\n",
       "    }\n",
       "\n",
       "    .dataframe tbody tr th {\n",
       "        vertical-align: top;\n",
       "    }\n",
       "\n",
       "    .dataframe thead th {\n",
       "        text-align: right;\n",
       "    }\n",
       "</style>\n",
       "<table border=\"1\" class=\"dataframe\">\n",
       "  <thead>\n",
       "    <tr style=\"text-align: right;\">\n",
       "      <th></th>\n",
       "      <th>id</th>\n",
       "      <th>num_fotos</th>\n",
       "      <th>marca</th>\n",
       "      <th>modelo</th>\n",
       "      <th>versao</th>\n",
       "      <th>ano_de_fabricacao</th>\n",
       "      <th>ano_modelo</th>\n",
       "      <th>hodometro</th>\n",
       "      <th>cambio</th>\n",
       "      <th>num_portas</th>\n",
       "      <th>...</th>\n",
       "      <th>elegivel_revisao</th>\n",
       "      <th>dono_aceita_troca</th>\n",
       "      <th>veiculo_único_dono</th>\n",
       "      <th>revisoes_concessionaria</th>\n",
       "      <th>ipva_pago</th>\n",
       "      <th>veiculo_licenciado</th>\n",
       "      <th>garantia_de_fábrica</th>\n",
       "      <th>revisoes_dentro_agenda</th>\n",
       "      <th>veiculo_alienado</th>\n",
       "      <th>preco</th>\n",
       "    </tr>\n",
       "  </thead>\n",
       "  <tbody>\n",
       "    <tr>\n",
       "      <th>29579</th>\n",
       "      <td>4.098510e+37</td>\n",
       "      <td>8.0</td>\n",
       "      <td>TOYOTA</td>\n",
       "      <td>HILUX</td>\n",
       "      <td>2.8 D-4D TURBO DIESEL CD SRX 4X4 AUTOMÁTICO</td>\n",
       "      <td>2021</td>\n",
       "      <td>2021</td>\n",
       "      <td>8150</td>\n",
       "      <td>Automática</td>\n",
       "      <td>4</td>\n",
       "      <td>...</td>\n",
       "      <td>False</td>\n",
       "      <td>Aceita troca</td>\n",
       "      <td>Único dono</td>\n",
       "      <td>NaN</td>\n",
       "      <td>IPVA pago</td>\n",
       "      <td>Licenciado</td>\n",
       "      <td>Garantia de fábrica</td>\n",
       "      <td>NaN</td>\n",
       "      <td>NaN</td>\n",
       "      <td>403015.28960</td>\n",
       "    </tr>\n",
       "    <tr>\n",
       "      <th>29580</th>\n",
       "      <td>1.646630e+38</td>\n",
       "      <td>8.0</td>\n",
       "      <td>VOLKSWAGEN</td>\n",
       "      <td>POLO</td>\n",
       "      <td>1.0 200 TSI HIGHLINE AUTOMÁTICO</td>\n",
       "      <td>2020</td>\n",
       "      <td>2020</td>\n",
       "      <td>17987</td>\n",
       "      <td>Automática</td>\n",
       "      <td>4</td>\n",
       "      <td>...</td>\n",
       "      <td>False</td>\n",
       "      <td>NaN</td>\n",
       "      <td>Único dono</td>\n",
       "      <td>Todas as revisões feitas pela concessionária</td>\n",
       "      <td>IPVA pago</td>\n",
       "      <td>Licenciado</td>\n",
       "      <td>Garantia de fábrica</td>\n",
       "      <td>NaN</td>\n",
       "      <td>NaN</td>\n",
       "      <td>88978.08050</td>\n",
       "    </tr>\n",
       "    <tr>\n",
       "      <th>29581</th>\n",
       "      <td>1.708660e+38</td>\n",
       "      <td>8.0</td>\n",
       "      <td>TOYOTA</td>\n",
       "      <td>HILUX</td>\n",
       "      <td>2.8 SRX 4X4 CD 16V DIESEL 4P AUTOMÁTICO</td>\n",
       "      <td>2019</td>\n",
       "      <td>2019</td>\n",
       "      <td>44742</td>\n",
       "      <td>Automática</td>\n",
       "      <td>4</td>\n",
       "      <td>...</td>\n",
       "      <td>False</td>\n",
       "      <td>Aceita troca</td>\n",
       "      <td>NaN</td>\n",
       "      <td>NaN</td>\n",
       "      <td>NaN</td>\n",
       "      <td>NaN</td>\n",
       "      <td>NaN</td>\n",
       "      <td>NaN</td>\n",
       "      <td>NaN</td>\n",
       "      <td>218807.64870</td>\n",
       "    </tr>\n",
       "    <tr>\n",
       "      <th>29582</th>\n",
       "      <td>2.089100e+38</td>\n",
       "      <td>8.0</td>\n",
       "      <td>PEUGEOT</td>\n",
       "      <td>2008</td>\n",
       "      <td>1.6 16V FLEX ALLURE PACK 4P AUTOMÁTICO</td>\n",
       "      <td>2021</td>\n",
       "      <td>2022</td>\n",
       "      <td>35376</td>\n",
       "      <td>Automática</td>\n",
       "      <td>4</td>\n",
       "      <td>...</td>\n",
       "      <td>False</td>\n",
       "      <td>Aceita troca</td>\n",
       "      <td>Único dono</td>\n",
       "      <td>NaN</td>\n",
       "      <td>IPVA pago</td>\n",
       "      <td>Licenciado</td>\n",
       "      <td>NaN</td>\n",
       "      <td>NaN</td>\n",
       "      <td>NaN</td>\n",
       "      <td>68495.99069</td>\n",
       "    </tr>\n",
       "    <tr>\n",
       "      <th>29583</th>\n",
       "      <td>1.717810e+38</td>\n",
       "      <td>14.0</td>\n",
       "      <td>AUDI</td>\n",
       "      <td>Q7</td>\n",
       "      <td>3.0 TFSI AMBIENTE V6 24V GASOLINA 4P TIPTRONIC</td>\n",
       "      <td>2016</td>\n",
       "      <td>2017</td>\n",
       "      <td>90433</td>\n",
       "      <td>Automática</td>\n",
       "      <td>4</td>\n",
       "      <td>...</td>\n",
       "      <td>False</td>\n",
       "      <td>Aceita troca</td>\n",
       "      <td>NaN</td>\n",
       "      <td>NaN</td>\n",
       "      <td>NaN</td>\n",
       "      <td>NaN</td>\n",
       "      <td>NaN</td>\n",
       "      <td>NaN</td>\n",
       "      <td>NaN</td>\n",
       "      <td>132507.87320</td>\n",
       "    </tr>\n",
       "  </tbody>\n",
       "</table>\n",
       "<p>5 rows × 29 columns</p>\n",
       "</div>"
      ],
      "text/plain": [
       "                 id  num_fotos       marca modelo  \\\n",
       "29579  4.098510e+37        8.0      TOYOTA  HILUX   \n",
       "29580  1.646630e+38        8.0  VOLKSWAGEN   POLO   \n",
       "29581  1.708660e+38        8.0      TOYOTA  HILUX   \n",
       "29582  2.089100e+38        8.0     PEUGEOT   2008   \n",
       "29583  1.717810e+38       14.0        AUDI     Q7   \n",
       "\n",
       "                                               versao  ano_de_fabricacao  \\\n",
       "29579     2.8 D-4D TURBO DIESEL CD SRX 4X4 AUTOMÁTICO               2021   \n",
       "29580                 1.0 200 TSI HIGHLINE AUTOMÁTICO               2020   \n",
       "29581         2.8 SRX 4X4 CD 16V DIESEL 4P AUTOMÁTICO               2019   \n",
       "29582          1.6 16V FLEX ALLURE PACK 4P AUTOMÁTICO               2021   \n",
       "29583  3.0 TFSI AMBIENTE V6 24V GASOLINA 4P TIPTRONIC               2016   \n",
       "\n",
       "       ano_modelo  hodometro      cambio  num_portas  ... elegivel_revisao  \\\n",
       "29579        2021       8150  Automática           4  ...            False   \n",
       "29580        2020      17987  Automática           4  ...            False   \n",
       "29581        2019      44742  Automática           4  ...            False   \n",
       "29582        2022      35376  Automática           4  ...            False   \n",
       "29583        2017      90433  Automática           4  ...            False   \n",
       "\n",
       "      dono_aceita_troca veiculo_único_dono  \\\n",
       "29579      Aceita troca         Único dono   \n",
       "29580               NaN         Único dono   \n",
       "29581      Aceita troca                NaN   \n",
       "29582      Aceita troca         Único dono   \n",
       "29583      Aceita troca                NaN   \n",
       "\n",
       "                            revisoes_concessionaria  ipva_pago  \\\n",
       "29579                                           NaN  IPVA pago   \n",
       "29580  Todas as revisões feitas pela concessionária  IPVA pago   \n",
       "29581                                           NaN        NaN   \n",
       "29582                                           NaN  IPVA pago   \n",
       "29583                                           NaN        NaN   \n",
       "\n",
       "      veiculo_licenciado  garantia_de_fábrica  revisoes_dentro_agenda  \\\n",
       "29579         Licenciado  Garantia de fábrica                     NaN   \n",
       "29580         Licenciado  Garantia de fábrica                     NaN   \n",
       "29581                NaN                  NaN                     NaN   \n",
       "29582         Licenciado                  NaN                     NaN   \n",
       "29583                NaN                  NaN                     NaN   \n",
       "\n",
       "       veiculo_alienado         preco  \n",
       "29579               NaN  403015.28960  \n",
       "29580               NaN   88978.08050  \n",
       "29581               NaN  218807.64870  \n",
       "29582               NaN   68495.99069  \n",
       "29583               NaN  132507.87320  \n",
       "\n",
       "[5 rows x 29 columns]"
      ]
     },
     "execution_count": 5,
     "metadata": {},
     "output_type": "execute_result"
    }
   ],
   "source": [
    "df.tail()"
   ]
  },
  {
   "cell_type": "code",
   "execution_count": 6,
   "id": "20cb8ad2",
   "metadata": {
    "scrolled": true
   },
   "outputs": [],
   "source": [
    "numerical_features = df.select_dtypes(include=['int64', 'float64']).columns.tolist()\n",
    "\n",
    "if 'id' in numerical_features:\n",
    "    numerical_features.remove('id')\n",
    "    \n",
    "if 'veiculo_alienado' in numerical_features:\n",
    "    numerical_features.remove('veiculo_alienado')"
   ]
  },
  {
   "cell_type": "code",
   "execution_count": 7,
   "id": "8bf4468f",
   "metadata": {
    "scrolled": false
   },
   "outputs": [
    {
     "name": "stdout",
     "output_type": "stream",
     "text": [
      "                   num_fotos  ano_de_fabricacao  ano_modelo  hodometro  \\\n",
      "num_fotos           1.000000           0.029702    0.032821   0.027550   \n",
      "ano_de_fabricacao   0.029702           1.000000    0.860315  -0.728288   \n",
      "ano_modelo          0.032821           0.860315    1.000000  -0.790062   \n",
      "hodometro           0.027550          -0.728288   -0.790062   1.000000   \n",
      "num_portas          0.011245           0.080988    0.074566  -0.055628   \n",
      "preco              -0.032331           0.239172    0.214854  -0.359218   \n",
      "\n",
      "                   num_portas     preco  \n",
      "num_fotos            0.011245 -0.032331  \n",
      "ano_de_fabricacao    0.080988  0.239172  \n",
      "ano_modelo           0.074566  0.214854  \n",
      "hodometro           -0.055628 -0.359218  \n",
      "num_portas           1.000000 -0.075265  \n",
      "preco               -0.075265  1.000000  \n"
     ]
    }
   ],
   "source": [
    "correlation_matrix = df[numerical_features].corr()\n",
    "\n",
    "print(correlation_matrix)"
   ]
  },
  {
   "cell_type": "code",
   "execution_count": 8,
   "id": "93981c6d",
   "metadata": {},
   "outputs": [
    {
     "data": {
      "image/png": "[encoded data removed]",
      "text/plain": [
       "<Figure size 1000x600 with 1 Axes>"
      ]
     },
     "metadata": {},
     "output_type": "display_data"
    },
    {
     "name": "stdout",
     "output_type": "stream",
     "text": [
      "                        mean         median  count\n",
      "marca                                             \n",
      "ALFA ROMEO      68172.543196   69926.750040      9\n",
      "AUDI           159977.750342  144563.336800   1698\n",
      "BMW            200501.186503  186290.870700   1784\n",
      "BRM             47762.671070   47762.671070      1\n",
      "CHERY          121716.542251  113645.340600    153\n",
      "CHEVROLET       93187.683964   79934.798235   3020\n",
      "CHRYSLER        62569.784568   57530.513200     30\n",
      "CITROËN         73494.483671   61708.494395    194\n",
      "DODGE           74370.666723   76463.935140     37\n",
      "EFFA            40163.175830   40163.175830      1\n",
      "FERRARI        114439.236300  114439.236300      1\n",
      "FIAT            99711.164582   93202.070185   1918\n",
      "FORD           127453.062260  103619.716000   1060\n",
      "HONDA          100620.715073   91506.027175   1586\n",
      "HYUNDAI         84419.639626   77118.762160   2043\n",
      "IVECO          151197.557200  151197.557200      2\n",
      "JAC             94387.618707   80714.531750      3\n",
      "JAGUAR         220195.137180  213749.006700    148\n",
      "JEEP           138367.166001  133126.835700   2000\n",
      "KIA            123252.810779  118306.655450    408\n",
      "LAND ROVER     223615.184184  203242.627500    760\n",
      "LEXUS          184938.449708  188544.522700     75\n",
      "LIFAN           84161.746083   84637.784350      8\n",
      "MASERATI       216148.390260  233586.981200      7\n",
      "MERCEDES-BENZ  176870.776900  158628.067100   1125\n",
      "MINI           146232.484660  132806.879300    137\n",
      "MITSUBISHI     142199.287879  117222.069850    862\n",
      "NISSAN         109275.319283   91691.281135    438\n",
      "PEUGEOT        122797.835087  126420.198200   1675\n",
      "PORSCHE        317187.326542  307013.192900    349\n",
      "RAM            321208.383105  321584.774150    168\n",
      "RENAULT         82649.368866   75871.664315    538\n",
      "SMART           91242.896766   66929.542660     12\n",
      "SSANGYONG       84982.203731   73173.086610     14\n",
      "SUBARU         138272.951862  115592.280400     41\n",
      "SUZUKI          92604.776441   85950.328730     41\n",
      "TOYOTA         156195.160143  129875.164950   2180\n",
      "TROLLER        148570.646836  142571.038900    177\n",
      "VOLKSWAGEN     117940.087380  103350.092100   4594\n",
      "VOLVO          198797.855656  189347.387700    287\n"
     ]
    }
   ],
   "source": [
    "# Visualize the distribution of prices for the most relevant categorical feature\n",
    "categorical_features = ['marca']\n",
    "\n",
    "for feature in categorical_features:\n",
    "    plt.figure(figsize=(10, 6))\n",
    "    df.groupby(feature)['preco'].median().plot(kind='bar')\n",
    "    plt.xlabel(feature)\n",
    "    plt.ylabel('Median Price')\n",
    "    plt.title(f'Median Price by {feature}')\n",
    "    plt.show()\n",
    "\n",
    "# Calculate summary statistics for each categorical feature\n",
    "summary_statistics = df.groupby(categorical_features)['preco'].agg(['mean', 'median', 'count'])\n",
    "print(summary_statistics)"
   ]
  },
  {
   "cell_type": "code",
   "execution_count": 9,
   "id": "5014c94c",
   "metadata": {},
   "outputs": [
    {
     "data": {
      "text/html": [
       "<div>\n",
       "<style scoped>\n",
       "    .dataframe tbody tr th:only-of-type {\n",
       "        vertical-align: middle;\n",
       "    }\n",
       "\n",
       "    .dataframe tbody tr th {\n",
       "        vertical-align: top;\n",
       "    }\n",
       "\n",
       "    .dataframe thead th {\n",
       "        text-align: right;\n",
       "    }\n",
       "</style>\n",
       "<table border=\"1\" class=\"dataframe\">\n",
       "  <thead>\n",
       "    <tr style=\"text-align: right;\">\n",
       "      <th></th>\n",
       "      <th>marca</th>\n",
       "      <th>mean</th>\n",
       "      <th>median</th>\n",
       "      <th>count</th>\n",
       "    </tr>\n",
       "  </thead>\n",
       "  <tbody>\n",
       "    <tr>\n",
       "      <th>35</th>\n",
       "      <td>SUZUKI</td>\n",
       "      <td>92604.776441</td>\n",
       "      <td>85950.32873</td>\n",
       "      <td>41</td>\n",
       "    </tr>\n",
       "    <tr>\n",
       "      <th>36</th>\n",
       "      <td>TOYOTA</td>\n",
       "      <td>156195.160143</td>\n",
       "      <td>129875.16495</td>\n",
       "      <td>2180</td>\n",
       "    </tr>\n",
       "    <tr>\n",
       "      <th>37</th>\n",
       "      <td>TROLLER</td>\n",
       "      <td>148570.646836</td>\n",
       "      <td>142571.03890</td>\n",
       "      <td>177</td>\n",
       "    </tr>\n",
       "    <tr>\n",
       "      <th>38</th>\n",
       "      <td>VOLKSWAGEN</td>\n",
       "      <td>117940.087380</td>\n",
       "      <td>103350.09210</td>\n",
       "      <td>4594</td>\n",
       "    </tr>\n",
       "    <tr>\n",
       "      <th>39</th>\n",
       "      <td>VOLVO</td>\n",
       "      <td>198797.855656</td>\n",
       "      <td>189347.38770</td>\n",
       "      <td>287</td>\n",
       "    </tr>\n",
       "  </tbody>\n",
       "</table>\n",
       "</div>"
      ],
      "text/plain": [
       "         marca           mean        median  count\n",
       "35      SUZUKI   92604.776441   85950.32873     41\n",
       "36      TOYOTA  156195.160143  129875.16495   2180\n",
       "37     TROLLER  148570.646836  142571.03890    177\n",
       "38  VOLKSWAGEN  117940.087380  103350.09210   4594\n",
       "39       VOLVO  198797.855656  189347.38770    287"
      ]
     },
     "execution_count": 9,
     "metadata": {},
     "output_type": "execute_result"
    }
   ],
   "source": [
    "# Convert the result into a pandas DataFrame\n",
    "summary_statistics_df = summary_statistics.reset_index()\n",
    "summary_statistics_df.tail()"
   ]
  },
  {
   "cell_type": "code",
   "execution_count": 10,
   "id": "018a11e4",
   "metadata": {},
   "outputs": [
    {
     "name": "stdout",
     "output_type": "stream",
     "text": [
      "Average Price of Cars: 127953.77215722327\n",
      "Average Sample Size: 739.6\n"
     ]
    }
   ],
   "source": [
    "# find out the median of all values\n",
    "\n",
    "from data_preprocessing import handle_outliers\n",
    "\n",
    "df = handle_outliers(df)\n",
    "\n",
    "average_price = df['preco'].mean()\n",
    "average_sample = summary_statistics_df['count'].mean()\n",
    "\n",
    "print(\"Average Price of Cars:\", average_price)\n",
    "print(\"Average Sample Size:\", average_sample)"
   ]
  },
  {
   "cell_type": "code",
   "execution_count": 11,
   "id": "34f90e2d",
   "metadata": {
    "scrolled": true
   },
   "outputs": [
    {
     "name": "stdout",
     "output_type": "stream",
     "text": [
      "         marca           mean         median  count\n",
      "5    CHEVROLET   93187.683964   79934.798235   3020\n",
      "11        FIAT   99711.164582   93202.070185   1918\n",
      "12        FORD  127453.062260  103619.716000   1060\n",
      "13       HONDA  100620.715073   91506.027175   1586\n",
      "14     HYUNDAI   84419.639626   77118.762160   2043\n",
      "28     PEUGEOT  122797.835087  126420.198200   1675\n",
      "38  VOLKSWAGEN  117940.087380  103350.092100   4594\n"
     ]
    },
    {
     "name": "stderr",
     "output_type": "stream",
     "text": [
      "C:\\Users\\pedro\\AppData\\Local\\Temp\\ipykernel_3336\\4045667584.py:4: UserWarning: Boolean Series key will be reindexed to match DataFrame index.\n",
      "  filtered_classes = filtered_classes[summary_statistics_df['count'] > average_sample]\n"
     ]
    }
   ],
   "source": [
    "# Filter by average, and eliminate samples with a small count\n",
    "\n",
    "filtered_classes = summary_statistics_df[summary_statistics_df['mean'] < average_price]\n",
    "filtered_classes = filtered_classes[summary_statistics_df['count'] > average_sample]\n",
    "\n",
    "# Display the filtered DataFrame\n",
    "print(filtered_classes)"
   ]
  },
  {
   "cell_type": "code",
   "execution_count": 12,
   "id": "2e4802b2",
   "metadata": {},
   "outputs": [],
   "source": [
    "marcas_populares = [\"CHEVROLET\", \"FIAT\", \"HONDA\", \"HYUNDAI\", \"PEUGEOT\", \"VOLKSWAGEN\"]"
   ]
  },
  {
   "cell_type": "code",
   "execution_count": 13,
   "id": "17fd1e17",
   "metadata": {},
   "outputs": [],
   "source": [
    "# Filter dataframe to only contain instances with the 'marcas_populares'\n",
    "df_marcas_populares = df[df['marca'].isin(marcas_populares)]"
   ]
  },
  {
   "cell_type": "code",
   "execution_count": 14,
   "id": "95228e18",
   "metadata": {},
   "outputs": [
    {
     "name": "stdout",
     "output_type": "stream",
     "text": [
      "estado_vendedor\n",
      "Acre (AC)                    76202.462150\n",
      "Alagoas (AL)                115331.244507\n",
      "Amazonas (AM)                85600.767352\n",
      "Bahia (BA)                  103447.392531\n",
      "Ceará (CE)                  101979.092115\n",
      "Espírito Santo (ES)          96095.233233\n",
      "Goiás (GO)                  123758.202319\n",
      "Maranhão (MA)               121041.689124\n",
      "Mato Grosso (MT)            131479.497304\n",
      "Mato Grosso do Sul (MS)      91542.079854\n",
      "Minas Gerais (MG)           107704.792704\n",
      "Paraná (PR)                 113901.198370\n",
      "Paraíba (PB)                 91066.777475\n",
      "Pará (PA)                   117677.240212\n",
      "Pernambuco (PE)              97301.329251\n",
      "Piauí (PI)                  166998.772860\n",
      "Rio Grande do Norte (RN)    109105.107498\n",
      "Rio Grande do Sul (RS)      112557.620134\n",
      "Rio de Janeiro (RJ)         105487.336505\n",
      "Rondônia (RO)               118363.820725\n",
      "Roraima (RR)                 63613.691190\n",
      "Santa Catarina (SC)         101415.867566\n",
      "Sergipe (SE)                108353.825845\n",
      "São Paulo (SP)              101002.636972\n",
      "Tocantins (TO)              103968.621731\n",
      "Name: preco, dtype: float64\n",
      "State with highest average_price is:  Piauí (PI)\n"
     ]
    }
   ],
   "source": [
    "average_prices = df_marcas_populares.groupby('estado_vendedor')['preco'].mean()\n",
    "\n",
    "# Print the average prices\n",
    "print(average_prices)\n",
    "\n",
    "print(\"State with highest average_price is: \", average_prices.idxmax())"
   ]
  },
  {
   "cell_type": "code",
   "execution_count": 15,
   "id": "22b8883b",
   "metadata": {},
   "outputs": [],
   "source": [
    "# Filter the DataFrame to contain only instances where 'tipo' is 'Picape' and 'cambio' is 'Automático'\n",
    "picape_df = df[(df['tipo'] == 'Picape') & (df['cambio'] == 'Automática')]"
   ]
  },
  {
   "cell_type": "code",
   "execution_count": 16,
   "id": "7d3c37fd",
   "metadata": {},
   "outputs": [
    {
     "name": "stdout",
     "output_type": "stream",
     "text": [
      "estado_vendedor\n",
      "Acre (AC)                   145256.693662\n",
      "Alagoas (AL)                218671.542767\n",
      "Bahia (BA)                  202882.410829\n",
      "Goiás (GO)                  194187.767032\n",
      "Mato Grosso (MT)            214102.315650\n",
      "Mato Grosso do Sul (MS)     144700.247632\n",
      "Minas Gerais (MG)           182478.099817\n",
      "Paraná (PR)                 187135.816974\n",
      "Paraíba (PB)                 93157.035253\n",
      "Pernambuco (PE)             192566.764506\n",
      "Piauí (PI)                  208181.077750\n",
      "Rio Grande do Norte (RN)    179961.694800\n",
      "Rio Grande do Sul (RS)      185793.382208\n",
      "Rio de Janeiro (RJ)         176548.816583\n",
      "Santa Catarina (SC)         172079.930955\n",
      "Sergipe (SE)                272649.517750\n",
      "São Paulo (SP)              174376.094274\n",
      "Tocantins (TO)              187717.127533\n",
      "Name: preco, dtype: float64\n",
      "State with lowest average_price is:  Paraíba (PB)\n"
     ]
    }
   ],
   "source": [
    "average_price_picape = picape_df.groupby('estado_vendedor')['preco'].mean()\n",
    "\n",
    "# Print the average prices\n",
    "print(average_price_picape)\n",
    "\n",
    "print(\"State with lowest average_price is: \", average_price_picape.idxmin())"
   ]
  },
  {
   "cell_type": "code",
   "execution_count": 17,
   "id": "6a52ac3c",
   "metadata": {},
   "outputs": [],
   "source": [
    "# Filter the DataFrame to contain only instances where 'garantia_de_fábrica' is 'Garantia de fábrica'\n",
    "garantia_df = df[(df['garantia_de_fábrica'] == 'Garantia de fábrica')]"
   ]
  },
  {
   "cell_type": "code",
   "execution_count": 18,
   "id": "052415ed",
   "metadata": {},
   "outputs": [
    {
     "name": "stdout",
     "output_type": "stream",
     "text": [
      "estado_vendedor\n",
      "Acre (AC)                   150416.911340\n",
      "Alagoas (AL)                154268.676542\n",
      "Amazonas (AM)                99617.303340\n",
      "Bahia (BA)                  165221.236195\n",
      "Ceará (CE)                  123939.878800\n",
      "Espírito Santo (ES)         104030.208124\n",
      "Goiás (GO)                  161709.106729\n",
      "Mato Grosso (MT)            197657.066550\n",
      "Mato Grosso do Sul (MS)     121709.589842\n",
      "Minas Gerais (MG)           157531.959478\n",
      "Paraná (PR)                 170214.863647\n",
      "Paraíba (PB)                 95762.746630\n",
      "Pará (PA)                    98156.615279\n",
      "Pernambuco (PE)             149898.416932\n",
      "Rio Grande do Norte (RN)    133120.393897\n",
      "Rio Grande do Sul (RS)      169001.736437\n",
      "Rio de Janeiro (RJ)         174742.392511\n",
      "Santa Catarina (SC)         163290.559023\n",
      "Sergipe (SE)                318314.436800\n",
      "São Paulo (SP)              161694.077183\n",
      "Tocantins (TO)              243002.217000\n",
      "Name: preco, dtype: float64\n",
      "State with lowest average_price is:  Paraíba (PB)\n"
     ]
    }
   ],
   "source": [
    "average_price_garantia = garantia_df.groupby('estado_vendedor')['preco'].mean()\n",
    "\n",
    "# Print the average prices\n",
    "print(average_price_garantia)\n",
    "\n",
    "print(\"State with lowest average_price is: \", average_price_garantia.idxmin())"
   ]
  },
  {
   "cell_type": "code",
   "execution_count": null,
   "id": "791e629f",
   "metadata": {},
   "outputs": [],
   "source": []
  }
 ],
 "metadata": {
  "kernelspec": {
   "display_name": "Python 3 (ipykernel)",
   "language": "python",
   "name": "python3"
  },
  "language_info": {
   "codemirror_mode": {
    "name": "ipython",
    "version": 3
   },
   "file_extension": ".py",
   "mimetype": "text/x-python",
   "name": "python",
   "nbconvert_exporter": "python",
   "pygments_lexer": "ipython3",
   "version": "3.11.1"
  }
 },
 "nbformat": 4,
 "nbformat_minor": 5
}
